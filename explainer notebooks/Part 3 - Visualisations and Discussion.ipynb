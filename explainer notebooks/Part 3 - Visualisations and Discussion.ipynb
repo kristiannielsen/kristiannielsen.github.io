{
 "cells": [
  {
   "cell_type": "markdown",
   "metadata": {},
   "source": [
    "# 4 Visualisations"
   ]
  },
  {
   "cell_type": "markdown",
   "metadata": {},
   "source": [
    "### The map with borough dots"
   ]
  },
  {
   "cell_type": "markdown",
   "metadata": {},
   "source": [
    "Instead of a less interesting table, this map shows the number of incidents both by the actual numbers and the size of the dots placed centrally in each borough. Mostly just an introductory visualisation to state some basic facts."
   ]
  },
  {
   "cell_type": "markdown",
   "metadata": {},
   "source": [
    "### The heat map gif"
   ]
  },
  {
   "cell_type": "markdown",
   "metadata": {},
   "source": [
    "The heat map was chosen to show the development over time, instead of setting multiple still images side by side. This way it becomes easier to grasp the development over the years and it becomes clear that the same areas seem to peak year after year. Only Brooklyn is shown on that particular one because heat maps of the all the data is available in the explainer notebok part 2."
   ]
  },
  {
   "cell_type": "markdown",
   "metadata": {},
   "source": [
    "### The bar plot showing the hourly distribution of incidents"
   ]
  },
  {
   "cell_type": "markdown",
   "metadata": {},
   "source": [
    "The visualistions shows the interesting, however not surprising, difference between ordinary weekdays and weekends. The user would most likely guess there would be a difference, but actually seeing the bars change to peak new places gives a new insight. (Here, one could maybe argue that the number of incidents per hour should have been relative to the number of days it is based, since it was decided to leave the y-axis fixed.)"
   ]
  },
  {
   "cell_type": "markdown",
   "metadata": {},
   "source": [
    "### The zoomable area chart"
   ]
  },
  {
   "cell_type": "markdown",
   "metadata": {},
   "source": [
    "This visualistion is great because it allows the user to investigate the data herself. By zooming you can find specific dates of for the hight peaks and the low valleys which could lead you do your own investigation e.g. simply by googling the date to chech out if something interesting happened. Specific dates were not chosen as a focus for this project, but could easily have been."
   ]
  },
  {
   "cell_type": "markdown",
   "metadata": {},
   "source": [
    "### The K-means map"
   ]
  },
  {
   "cell_type": "markdown",
   "metadata": {},
   "source": [
    "This visualations was an obvious choice to illustrate the results of the K-means algorithm performed in Part 2 of the Explainer Notebook. It clearly illustrates where you can identify centers of attention, and the fact that you toggle between different k-values makes it even more interesting the user instead 5 visualiations of the same map with different for K."
   ]
  },
  {
   "cell_type": "markdown",
   "metadata": {},
   "source": [
    "# 5 Discussion"
   ]
  },
  {
   "cell_type": "markdown",
   "metadata": {},
   "source": [
    "In general, most of the project went well. Even though it was clear beforehand that the data set was a big with many interesting features, it was surprising how many things you could dig into. New doors opened all the time, and at times it became a bit difficult to stay on track. Because of this, some of the exploratory analysis on the different trends is a bit superficial. Insted of delving into specifics, it became more about showing different aspects of the data set as whole. This could be improved and a fun project if more time was in hand. \n",
    "\n",
    "At first, the idea was also to merge the data set with weather data from WunderGround, but unfortunately it was very restricted for a free user, so that did not work out. Another time, one should definitely grant a paid API key, because it seems very likely that information of the weather would reveal great insights. Furthermore, some measure of the traffic density proved very hard to find. In the end, all the was to gain was numbers on the mileage of roads and the number of blocks in each borough. It was from 2001, which did not necessarily be that bad by itself, by a similar project analysed the same numbers and the proved useless as a measurer.\n",
    "\n",
    "The machine learning aspect of the project went well. It was an interesting perspective to see how K-means could be applied to a realworld problem i.e. to identify areas of great interest. The regressors performed better than expected. This was maybe partly due to the chosen features for the case. If there had been more time, it would be interesting to do more time series oriented testing on the data, e.g. time series cross validation.\n",
    "\n",
    "It would have been great to go even more in depth with the visualisations. Especially some visualisation with more layers that would be even more interactive to let the user investigate and get intrigued by the data. For example, a map with multiple filtering options on both factors, vehicle types, fatality and similar would have been a great improvement."
   ]
  }
 ],
 "metadata": {
  "kernelspec": {
   "display_name": "Python 2",
   "language": "python",
   "name": "python2"
  },
  "language_info": {
   "codemirror_mode": {
    "name": "ipython",
    "version": 2
   },
   "file_extension": ".py",
   "mimetype": "text/x-python",
   "name": "python",
   "nbconvert_exporter": "python",
   "pygments_lexer": "ipython2",
   "version": "2.7.12"
  }
 },
 "nbformat": 4,
 "nbformat_minor": 2
}
