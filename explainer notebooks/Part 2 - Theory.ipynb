{
 "cells": [
  {
   "cell_type": "markdown",
   "metadata": {},
   "source": [
    "# 4 Theory"
   ]
  },
  {
   "cell_type": "code",
   "execution_count": 1,
   "metadata": {
    "collapsed": true
   },
   "outputs": [],
   "source": [
    "# imports\n",
    "import json\n",
    "import pandas as pd\n",
    "from sklearn.cluster import k_means\n",
    "from sklearn.model_selection import train_test_split, cross_val_score\n",
    "from sklearn.ensemble import RandomForestClassifier, RandomForestRegressor\n",
    "from sklearn.neural_network import MLPRegressor\n",
    "from sklearn.feature_selection import SelectFromModel\n",
    "\n",
    "from collections import Counter\n",
    "\n",
    "import numpy as np\n",
    "import matplotlib.pyplot as plt\n",
    "%matplotlib inline\n",
    "\n",
    "import warnings\n",
    "warnings.filterwarnings('ignore')"
   ]
  },
  {
   "cell_type": "code",
   "execution_count": 2,
   "metadata": {
    "scrolled": true
   },
   "outputs": [],
   "source": [
    "# load the data\n",
    "df = pd.read_csv(\"new_clean_data.csv\")"
   ]
  },
  {
   "cell_type": "markdown",
   "metadata": {},
   "source": [
    "## Clustering analysis"
   ]
  },
  {
   "cell_type": "markdown",
   "metadata": {},
   "source": [
    "This section will explain and show how K-means clustering is performed on the data set. From the introductory analysis seen in part 1, it became evident that the distribution of all factors are not directly correlated to total amount of incidents happening. Therefore, it could be interesting to locate the most central points where these other factors are peaking. This kind  of knowledge could be utilized to target specfic types of incidents in the places where it would the greatest effect. And the same methodology could be applied on many different kinds of factors and/or vehicle types that cannot easily be identified."
   ]
  },
  {
   "cell_type": "code",
   "execution_count": 3,
   "metadata": {
    "collapsed": true
   },
   "outputs": [],
   "source": [
    "#filter the data\n",
    "slippery_related = df[df[\"contributing factor vehicle 1\"] == \"Pavement Slippery\"]"
   ]
  },
  {
   "cell_type": "code",
   "execution_count": 4,
   "metadata": {
    "collapsed": true
   },
   "outputs": [],
   "source": [
    "#picking the location columns\n",
    "X = slippery_related[[\"lon\",\"lat\"]]\n",
    "\n",
    "# list for holding the labels for the different ks\n",
    "all_data = X.copy()\n",
    "all_labels = []\n",
    "centroids_df = pd.DataFrame()\n",
    "all_centroids = {}\n",
    "all_inertia = []\n",
    "\n",
    "# run kmeans 5 times with k = 2..6\n",
    "for k in xrange(2,7):\n",
    "    centroids, labels, inertia = k_means(X, n_clusters=k) # inertia is the sum of squared errors for the model\n",
    "    all_data[\"k{}\".format(k)] = labels\n",
    "    all_labels.append(labels)\n",
    "    all_inertia.append(inertia)\n",
    "    all_centroids[\"k{}\".format(k)] = [(x,y) for x,y in centroids]"
   ]
  },
  {
   "cell_type": "markdown",
   "metadata": {},
   "source": [
    "The method known as the *Elbow Method* is used to decide the best number of clusters. Below is the inertia plottied against the value of `k`. This value is a measure of the closest distance a point has to one of the `k`-centers. The place where the line flattens the most is a good basis for a value of `k`. In this, that would be 4 or 5."
   ]
  },
  {
   "cell_type": "code",
   "execution_count": 5,
   "metadata": {},
   "outputs": [
    {
     "data": {
      "image/png": "[encoded data removed]",
      "text/plain": [
       "<matplotlib.figure.Figure at 0x1136994d0>"
      ]
     },
     "metadata": {},
     "output_type": "display_data"
    }
   ],
   "source": [
    "plt.tight_layout\n",
    "plt.ylabel(\"Inertia (SSE)\")\n",
    "plt.xlabel(\"K-value\")\n",
    "plt.plot(np.arange(2,7,1), all_inertia)\n",
    "plt.show()"
   ]
  },
  {
   "cell_type": "code",
   "execution_count": 6,
   "metadata": {
    "collapsed": true
   },
   "outputs": [],
   "source": [
    "# save the geodata as csv\n",
    "all_data.to_csv(\"slippery_geodata_with_ks.csv\", index=False)\n",
    "\n",
    "# and the centroids as json\n",
    "with open('slippery_centroids.json', 'w') as file:\n",
    "    json.dump(all_centroids, file)"
   ]
  },
  {
   "cell_type": "markdown",
   "metadata": {},
   "source": [
    "## Regression analysis"
   ]
  },
  {
   "cell_type": "markdown",
   "metadata": {},
   "source": [
    "In this section two different kinds of regression will be performed, RandomForestRegressor and MLPRegressor. RandomForestRegressor is a decision tree based regression algorithm used to estimate continouos values. The MLPRegressos is a multi layer perceptron (more commonly known as a neural network) based regressor. Two different models are used to form a basis for comparison.\n",
    "\n",
    "In preparation for the analyses, the data is filtered and processed to the right format. First, several features of the data set were chosen. For both analyses `[\"borough\", \"year\", \"month\", \"weekday\", \"hour\"]` which all can be considered as categorical features. Second, the data was grouped to get an hourly count of the accidents in each borough for every date (both year, month, and weekday) in data set. Third, the features were converted using pandas `get_dummies()` that converts them into numerical indicator values. As oppposed to e.g. one hot encoding this ensures no hierachy among the values of the different features and instead new boolean dummy variables are created.\n",
    "\n",
    "Before applying the regressors, the data was split into a training and a test part to avoid overfitting the data. Additionally, the `SelectFromModel` model from the `sklearn.feature_selection` library was applied to `RandomForesRegressor` to see if any improvements could be achieved. This model selects the most important features based on the a model's `feature_importances_` that tells how much a feature in the input says about the predicted output.\n",
    "\n",
    "To measure the performance of the regressors, crossvalidation was utilized to gain a more robust measure of the performance of each regressor. The performance for each of the regressors were measured by $R^2$ number. Different versions of this measurer exist, but in `scikit`-version, which is used for this task, it is defined as $1-\\frac{u}{v}$, where $u = \\sum((y_{true}-y_{pred})^2)$ and $v = \\sum((y_{true}-\\mu_{y_{true}})^2)$, which in simpler terms is a measure of how much the predicted values vary from the true values compared to how much the true values vary from the mean of the true values.\n",
    "\n",
    "Lastly, the predicted values of each regressor were inspected visually by their residual plots, because it can be a bit hard to interpret $R^2$ by itself, and plotting the data displays how the regressors estimate.\n",
    "\n",
    "The reasen for choosing regression was to be able to predict numerical numbers and the choice of using these two specificially was to try something novel. One can imagine that predicting the amount of accidents on an hourly level in every borough could be a huge benefit e.g. to schedule manpower in the different police precints. The model made here is rather simple, but could easily be expandend upon with e.g. access to weather data. \n",
    "\n",
    "The results can be seen below all the code."
   ]
  },
  {
   "cell_type": "markdown",
   "metadata": {},
   "source": [
    "## Data Preparation\n",
    "This subsection is most explained by inline comments. The $R^2$ values are right after each regressor code block and will also be summarized in the end."
   ]
  },
  {
   "cell_type": "code",
   "execution_count": 7,
   "metadata": {},
   "outputs": [],
   "source": [
    "# grouping by the features we are interested in and getting their sizes\n",
    "simple_series = df.groupby([\"borough\", \"year\", \"month\", \"weekday\", \"hour\"]).size()\n",
    "\n",
    "# turn the series into a data frame\n",
    "simple_df = pd.DataFrame(simple_series)\n",
    "\n",
    "# save data frame to csv and load it agagin \n",
    "# (a workaround - I did not know have to directly \n",
    "# put the features that I grouped by into every row)\n",
    "simple_df.to_csv(\"test.csv\")\n",
    "new_simple_df = pd.read_csv(\"test.csv\")\n",
    "\n",
    "# label the columns again and the new \"count\" column created by size()\n",
    "new_simple_df.columns = [\"borough\", \"year\", \"month\", \"weekday\", \"hour\", \"count\"]\n",
    "\n",
    "# transform the categorial values into numerical values\n",
    "columns_to_transform = [\"borough\", \"year\", \"month\", \"weekday\", \"hour\"]\n",
    "new_simple_df_with_dummies = pd.get_dummies(new_simple_df, columns = columns_to_transform )"
   ]
  },
  {
   "cell_type": "markdown",
   "metadata": {},
   "source": [
    "## RandomForestRegressor"
   ]
  },
  {
   "cell_type": "code",
   "execution_count": null,
   "metadata": {
    "scrolled": false
   },
   "outputs": [
    {
     "name": "stdout",
     "output_type": "stream",
     "text": [
      "R-squared: 0.83\n"
     ]
    }
   ],
   "source": [
    "# random forest regressor without SelectFromModel feature selection\n",
    "\n",
    "X = new_simple_df_with_dummies.drop(\"count\", 1)\n",
    "y = new_simple_df[\"count\"]\n",
    "\n",
    "# split the data and target for train and test\n",
    "X_train, X_test, y_train, y_test = train_test_split(X, y, test_size=0.2, random_state=42)\n",
    "\n",
    "rfg = RandomForestRegressor(n_estimators=100)\n",
    "rfg = rfg.fit(X_train, y_train)\n",
    "\n",
    "scores = cross_val_score(rfg, X_test, y_test, cv=5)\n",
    "\n",
    "print(\"R-squared: {:.2f}\".format(sum(scores)/5))"
   ]
  },
  {
   "cell_type": "code",
   "execution_count": null,
   "metadata": {},
   "outputs": [],
   "source": [
    "# random forest regressor with SelectFromModel feature selection\n",
    "\n",
    "X = new_simple_df_with_dummies.drop(\"count\", 1)\n",
    "y = new_simple_df[\"count\"]\n",
    "\n",
    "# split the data and target for train and test\n",
    "X_train, X_test, y_train, y_test = train_test_split(X, y, test_size=0.2, random_state=42)\n",
    "\n",
    "\n",
    "# create random forest regressor with 100 estimators\n",
    "rfg_sfm = RandomForestRegressor(n_estimators=100)\n",
    "\n",
    "# create a SelectFromModel to choose the most important features from data\n",
    "sfm = SelectFromModel(rfg_sfm, threshold=0.001)\n",
    "sfm.fit(X, y)\n",
    "\n",
    "new_X = sfm.transform(X)\n",
    "X_train, X_test, y_train, y_test = train_test_split(new_X, y, test_size=0.2, random_state=42)\n",
    "\n",
    "rfg_sfm.fit(X_train, y_train)\n",
    "\n",
    "scores = cross_val_score(rfg_sfm, X_test, y_test, cv=5)\n",
    "\n",
    "print(\"R-squared: {:.2f}\".format(sum(scores)/5))"
   ]
  },
  {
   "cell_type": "markdown",
   "metadata": {},
   "source": [
    "## MLPRegressor"
   ]
  },
  {
   "cell_type": "code",
   "execution_count": null,
   "metadata": {},
   "outputs": [],
   "source": [
    "# MLP regressor\n",
    "\n",
    "X = new_simple_df_with_dummies.drop(\"count\", 1)\n",
    "y = new_simple_df[\"count\"]\n",
    "\n",
    "# split the data and target for train and test\n",
    "X_train, X_test, y_train, y_test = train_test_split(X, y, test_size=0.2, random_state=42)\n",
    "\n",
    "# create a MLP regressor\n",
    "mlp_reg = MLPRegressor(random_state=42)\n",
    "\n",
    "# fit the regressor\n",
    "mlp_reg.fit(X_train, y_train)\n",
    "\n",
    "scores = cross_val_score(mlp_reg, X_test, y_test, cv=5)\n",
    "\n",
    "print(\"R-squared: {:.2f}\".format(sum(scores)/5))"
   ]
  },
  {
   "cell_type": "markdown",
   "metadata": {},
   "source": [
    "## The residual plots of the regressions"
   ]
  },
  {
   "cell_type": "code",
   "execution_count": null,
   "metadata": {},
   "outputs": [],
   "source": [
    "# data for the scatter plots\n",
    "rfg_predicted = rfg_sfm.predict(X_test)\n",
    "mlp_predicted = mlp_reg.predict(X_test)\n",
    "\n",
    "plt.style.use('ggplot')\n",
    "\n",
    "# Two subplots, unpack the axes array immediately\n",
    "f, (ax1, ax2) = plt.subplots(1, 2, sharey=True, figsize=(10,5))\n",
    "\n",
    "ax1.set_title('RandomForestRegressor')\n",
    "ax2.set_title('MLPRegressor')\n",
    "\n",
    "ax1.scatter(y_test, rfg_predicted)\n",
    "ax2.scatter(y_test, mlp_predicted)\n",
    "\n",
    "# numbers to prodcue an identity line\n",
    "t = np.arange(0., 78, 1)\n",
    "\n",
    "# red identity line\n",
    "ax1.plot(t, t, 'r--')\n",
    "ax2.plot(t, t, 'r--')\n",
    "\n",
    "# set axes limits\n",
    "ax1.set_xlim([-5, 75])\n",
    "ax1.set_ylim([-5, 75])\n",
    "ax2.set_xlim([-5, 75])\n",
    "\n",
    "# set axes labels by setting text on the figure\n",
    "f.text(0.5, 0.00, 'Actual', ha='center', va='center')\n",
    "f.text(0.00, 0.5, 'Predicted', ha='center', va='center', rotation='vertical')\n",
    "\n",
    "plt.tight_layout()\n",
    "plt.show()"
   ]
  },
  {
   "cell_type": "markdown",
   "metadata": {},
   "source": [
    "## Results\n",
    "\n",
    "The $R^2$ yielded a score of $0.82$ for the `RandomForestRegressor` both with and without the use of the `SelectFromModel`. The results seems pretty good the this. One could argue that a lot of other variables have a huge influence on the number of accidents on an hourly basis besides the ones chosen in this case. However, it was also a bit surprising it did not improve the score of removing any of the features using the `SelectFromModel`.\n",
    "\n",
    "Th `MLPRegressor` yielded an $R^2$ score of $0.84$, thereby a tiny bit better than the `RandomForestRegressor`. From the residual plot it can acutally be seen visually, or a least it seems so, that `MLPRegressor` performed best. The points are located more densely around the red line, that indicates a perfect prediction, and also seems better guessing the higher values in general. However, it also evident that it sometimes predict a negative amount which can obviously never be the case. The `MLPRegressor` can be tweaked a lot, and it would be very interesting to work more on this, especially with more features."
   ]
  }
 ],
 "metadata": {
  "kernelspec": {
   "display_name": "Python 2",
   "language": "python",
   "name": "python2"
  },
  "language_info": {
   "codemirror_mode": {
    "name": "ipython",
    "version": 2
   },
   "file_extension": ".py",
   "mimetype": "text/x-python",
   "name": "python",
   "nbconvert_exporter": "python",
   "pygments_lexer": "ipython2",
   "version": "2.7.12"
  }
 },
 "nbformat": 4,
 "nbformat_minor": 2
}
